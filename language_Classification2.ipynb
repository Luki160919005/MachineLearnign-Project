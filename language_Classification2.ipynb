{
  "nbformat": 4,
  "nbformat_minor": 0,
  "metadata": {
    "colab": {
      "name": "language_Classification2.ipynb",
      "provenance": [],
      "collapsed_sections": []
    },
    "kernelspec": {
      "name": "python3",
      "display_name": "Python 3"
    },
    "language_info": {
      "name": "python"
    }
  },
  "cells": [
    {
      "cell_type": "code",
      "metadata": {
        "id": "x0g_WVSaQOXl",
        "colab": {
          "base_uri": "https://localhost:8080/"
        },
        "outputId": "34dfd61a-ce97-4699-b584-3b1e5ec05081"
      },
      "source": [
        "import matplotlib.pyplot as plt\n",
        "import random\n",
        "import json\n",
        "import numpy as np\n",
        "import librosa\n",
        "import math\n",
        "from sklearn.model_selection import train_test_split\n",
        "import tensorflow.keras as keras\n",
        "\n",
        "from google.colab import drive\n",
        "drive.mount('/content/drive')\n",
        "#Im trying to find my language dataset which I already transform it into json\n",
        "jsonPath = \"/content/drive/MyDrive/languageSample/dataLanguage.json\""
      ],
      "execution_count": null,
      "outputs": [
        {
          "output_type": "stream",
          "name": "stdout",
          "text": [
            "Drive already mounted at /content/drive; to attempt to forcibly remount, call drive.mount(\"/content/drive\", force_remount=True).\n"
          ]
        }
      ]
    },
    {
      "cell_type": "code",
      "metadata": {
        "id": "7n02P2ltRSTw",
        "colab": {
          "base_uri": "https://localhost:8080/"
        },
        "outputId": "4215759b-4fdb-4deb-a8cf-ac933f5bb76e"
      },
      "source": [
        "def dataFiller(jsonPath):\n",
        "\n",
        "    with open(jsonPath, \"r\") as f:\n",
        "        myList = json.load(f)\n",
        "\n",
        "    # convert lists to numpy arrays\n",
        "    mfccArray = np.array(myList[\"mfcc\"])\n",
        "    labelsArray = np.array(myList[\"labels\"])\n",
        "\n",
        "    print(\"Your list is succesfully converted to numpy\")\n",
        "\n",
        "    return  mfccArray, labelsArray\n",
        "\n",
        "# load data\n",
        "mfccArray, labelsArray = dataFiller(jsonPath)\n",
        "mfccArray.shape"
      ],
      "execution_count": null,
      "outputs": [
        {
          "output_type": "stream",
          "name": "stdout",
          "text": [
            "Your list is succesfully converted to numpy\n"
          ]
        },
        {
          "output_type": "execute_result",
          "data": {
            "text/plain": [
              "(3000, 130, 13)"
            ]
          },
          "metadata": {},
          "execution_count": 6
        }
      ]
    },
    {
      "cell_type": "code",
      "metadata": {
        "id": "XCX4mxpcRbHL"
      },
      "source": [
        "# create train/test split\n",
        "X_train, X_test, y_train, y_test = train_test_split(mfccArray, labelsArray, test_size=0.3)\n",
        "# build network topology\n",
        "simulation = keras.Sequential([\n",
        "    # input layer\n",
        "    keras.layers.Flatten(input_shape=(mfccArray.shape[1], mfccArray.shape[2])),\n",
        "    # 1st dense layer\n",
        "    keras.layers.Dense(512, activation='relu'),\n",
        "    # 2nd dense layer\n",
        "    keras.layers.Dense(256, activation='relu'),\n",
        "    # 3rd dense layer\n",
        "    keras.layers.Dense(64, activation='relu'),\n",
        "    # output layer\n",
        "    keras.layers.Dense(10, activation='softmax')\n",
        "])\n",
        "\n",
        "# compile model\n",
        "advancer = keras.optimizers.Adam(learning_rate=0.0001)\n",
        "simulation.compile(optimizer=advancer,\n",
        "              loss='sparse_categorical_crossentropy',\n",
        "              metrics=['accuracy'])"
      ],
      "execution_count": null,
      "outputs": []
    },
    {
      "cell_type": "code",
      "metadata": {
        "colab": {
          "base_uri": "https://localhost:8080/"
        },
        "id": "SF-0j_AvRgSq",
        "outputId": "6e47d134-9158-4f52-8405-529cca85af5e"
      },
      "source": [
        "information = simulation.fit(\n",
        "    X_train,\n",
        "    y_train,\n",
        "    batch_size=32,\n",
        "    epochs=50,\n",
        "    # We pass some validation for\n",
        "    # monitoring validation loss and metrics\n",
        "    # at the end of each epoch\n",
        "    validation_data=(X_test, y_test),\n",
        ")"
      ],
      "execution_count": null,
      "outputs": [
        {
          "output_type": "stream",
          "name": "stdout",
          "text": [
            "Epoch 1/50\n",
            "66/66 [==============================] - 1s 12ms/step - loss: 11.8990 - accuracy: 0.5010 - val_loss: 4.8183 - val_accuracy: 0.6222\n",
            "Epoch 2/50\n",
            "66/66 [==============================] - 1s 9ms/step - loss: 3.6114 - accuracy: 0.6614 - val_loss: 4.4056 - val_accuracy: 0.6156\n",
            "Epoch 3/50\n",
            "66/66 [==============================] - 1s 9ms/step - loss: 2.4635 - accuracy: 0.7052 - val_loss: 3.7399 - val_accuracy: 0.6344\n",
            "Epoch 4/50\n",
            "66/66 [==============================] - 1s 9ms/step - loss: 1.4641 - accuracy: 0.7752 - val_loss: 3.3618 - val_accuracy: 0.6356\n",
            "Epoch 5/50\n",
            "66/66 [==============================] - 1s 9ms/step - loss: 0.9028 - accuracy: 0.8238 - val_loss: 3.1274 - val_accuracy: 0.6411\n",
            "Epoch 6/50\n",
            "66/66 [==============================] - 1s 9ms/step - loss: 0.7177 - accuracy: 0.8433 - val_loss: 3.0272 - val_accuracy: 0.6411\n",
            "Epoch 7/50\n",
            "66/66 [==============================] - 1s 9ms/step - loss: 0.6641 - accuracy: 0.8595 - val_loss: 3.8335 - val_accuracy: 0.6233\n",
            "Epoch 8/50\n",
            "66/66 [==============================] - 1s 9ms/step - loss: 0.4307 - accuracy: 0.8986 - val_loss: 2.7771 - val_accuracy: 0.6667\n",
            "Epoch 9/50\n",
            "66/66 [==============================] - 1s 9ms/step - loss: 0.1863 - accuracy: 0.9505 - val_loss: 2.9034 - val_accuracy: 0.6611\n",
            "Epoch 10/50\n",
            "66/66 [==============================] - 1s 9ms/step - loss: 0.2383 - accuracy: 0.9333 - val_loss: 3.4347 - val_accuracy: 0.6289\n",
            "Epoch 11/50\n",
            "66/66 [==============================] - 1s 9ms/step - loss: 0.3179 - accuracy: 0.9071 - val_loss: 3.6197 - val_accuracy: 0.6456\n",
            "Epoch 12/50\n",
            "66/66 [==============================] - 1s 9ms/step - loss: 0.9162 - accuracy: 0.8376 - val_loss: 3.3622 - val_accuracy: 0.6700\n",
            "Epoch 13/50\n",
            "66/66 [==============================] - 1s 9ms/step - loss: 0.2413 - accuracy: 0.9419 - val_loss: 2.9777 - val_accuracy: 0.6700\n",
            "Epoch 14/50\n",
            "66/66 [==============================] - 1s 9ms/step - loss: 0.0956 - accuracy: 0.9705 - val_loss: 2.9259 - val_accuracy: 0.6711\n",
            "Epoch 15/50\n",
            "66/66 [==============================] - 1s 9ms/step - loss: 0.0216 - accuracy: 0.9933 - val_loss: 2.8436 - val_accuracy: 0.6789\n",
            "Epoch 16/50\n",
            "66/66 [==============================] - 1s 9ms/step - loss: 0.0057 - accuracy: 0.9990 - val_loss: 2.8261 - val_accuracy: 0.6722\n",
            "Epoch 17/50\n",
            "66/66 [==============================] - 1s 9ms/step - loss: 0.0012 - accuracy: 1.0000 - val_loss: 2.8290 - val_accuracy: 0.6756\n",
            "Epoch 18/50\n",
            "66/66 [==============================] - 1s 10ms/step - loss: 9.6402e-04 - accuracy: 1.0000 - val_loss: 2.8378 - val_accuracy: 0.6767\n",
            "Epoch 19/50\n",
            "66/66 [==============================] - 1s 9ms/step - loss: 8.0271e-04 - accuracy: 1.0000 - val_loss: 2.8353 - val_accuracy: 0.6767\n",
            "Epoch 20/50\n",
            "66/66 [==============================] - 1s 9ms/step - loss: 7.2439e-04 - accuracy: 1.0000 - val_loss: 2.8270 - val_accuracy: 0.6767\n",
            "Epoch 21/50\n",
            "66/66 [==============================] - 1s 9ms/step - loss: 6.5650e-04 - accuracy: 1.0000 - val_loss: 2.8239 - val_accuracy: 0.6756\n",
            "Epoch 22/50\n",
            "66/66 [==============================] - 1s 9ms/step - loss: 6.1640e-04 - accuracy: 1.0000 - val_loss: 2.8296 - val_accuracy: 0.6789\n",
            "Epoch 23/50\n",
            "66/66 [==============================] - 1s 9ms/step - loss: 5.7173e-04 - accuracy: 1.0000 - val_loss: 2.8207 - val_accuracy: 0.6767\n",
            "Epoch 24/50\n",
            "66/66 [==============================] - 1s 9ms/step - loss: 5.4394e-04 - accuracy: 1.0000 - val_loss: 2.8269 - val_accuracy: 0.6778\n",
            "Epoch 25/50\n",
            "66/66 [==============================] - 1s 9ms/step - loss: 5.1336e-04 - accuracy: 1.0000 - val_loss: 2.8266 - val_accuracy: 0.6789\n",
            "Epoch 26/50\n",
            "66/66 [==============================] - 1s 10ms/step - loss: 4.8659e-04 - accuracy: 1.0000 - val_loss: 2.8213 - val_accuracy: 0.6767\n",
            "Epoch 27/50\n",
            "66/66 [==============================] - 1s 9ms/step - loss: 4.5157e-04 - accuracy: 1.0000 - val_loss: 2.8094 - val_accuracy: 0.6744\n",
            "Epoch 28/50\n",
            "66/66 [==============================] - 1s 9ms/step - loss: 4.3657e-04 - accuracy: 1.0000 - val_loss: 2.8222 - val_accuracy: 0.6756\n",
            "Epoch 29/50\n",
            "66/66 [==============================] - 1s 9ms/step - loss: 4.1206e-04 - accuracy: 1.0000 - val_loss: 2.8290 - val_accuracy: 0.6778\n",
            "Epoch 30/50\n",
            "66/66 [==============================] - 1s 9ms/step - loss: 3.8989e-04 - accuracy: 1.0000 - val_loss: 2.8107 - val_accuracy: 0.6767\n",
            "Epoch 31/50\n",
            "66/66 [==============================] - 1s 9ms/step - loss: 3.7688e-04 - accuracy: 1.0000 - val_loss: 2.8142 - val_accuracy: 0.6778\n",
            "Epoch 32/50\n",
            "66/66 [==============================] - 1s 9ms/step - loss: 3.6077e-04 - accuracy: 1.0000 - val_loss: 2.8074 - val_accuracy: 0.6800\n",
            "Epoch 33/50\n",
            "66/66 [==============================] - 1s 9ms/step - loss: 3.4518e-04 - accuracy: 1.0000 - val_loss: 2.8195 - val_accuracy: 0.6767\n",
            "Epoch 34/50\n",
            "66/66 [==============================] - 1s 9ms/step - loss: 3.3042e-04 - accuracy: 1.0000 - val_loss: 2.8117 - val_accuracy: 0.6778\n",
            "Epoch 35/50\n",
            "66/66 [==============================] - 1s 9ms/step - loss: 3.1941e-04 - accuracy: 1.0000 - val_loss: 2.8138 - val_accuracy: 0.6833\n",
            "Epoch 36/50\n",
            "66/66 [==============================] - 1s 9ms/step - loss: 3.1018e-04 - accuracy: 1.0000 - val_loss: 2.8142 - val_accuracy: 0.6822\n",
            "Epoch 37/50\n",
            "66/66 [==============================] - 1s 9ms/step - loss: 2.9416e-04 - accuracy: 1.0000 - val_loss: 2.8189 - val_accuracy: 0.6778\n",
            "Epoch 38/50\n",
            "66/66 [==============================] - 1s 9ms/step - loss: 2.8539e-04 - accuracy: 1.0000 - val_loss: 2.8082 - val_accuracy: 0.6756\n",
            "Epoch 39/50\n",
            "66/66 [==============================] - 1s 9ms/step - loss: 2.7460e-04 - accuracy: 1.0000 - val_loss: 2.8134 - val_accuracy: 0.6822\n",
            "Epoch 40/50\n",
            "66/66 [==============================] - 1s 9ms/step - loss: 2.6521e-04 - accuracy: 1.0000 - val_loss: 2.8132 - val_accuracy: 0.6789\n",
            "Epoch 41/50\n",
            "66/66 [==============================] - 1s 9ms/step - loss: 2.5604e-04 - accuracy: 1.0000 - val_loss: 2.8135 - val_accuracy: 0.6778\n",
            "Epoch 42/50\n",
            "66/66 [==============================] - 1s 9ms/step - loss: 2.4957e-04 - accuracy: 1.0000 - val_loss: 2.8127 - val_accuracy: 0.6811\n",
            "Epoch 43/50\n",
            "66/66 [==============================] - 1s 9ms/step - loss: 2.4011e-04 - accuracy: 1.0000 - val_loss: 2.8082 - val_accuracy: 0.6789\n",
            "Epoch 44/50\n",
            "66/66 [==============================] - 1s 9ms/step - loss: 2.3230e-04 - accuracy: 1.0000 - val_loss: 2.8116 - val_accuracy: 0.6800\n",
            "Epoch 45/50\n",
            "66/66 [==============================] - 1s 9ms/step - loss: 2.2585e-04 - accuracy: 1.0000 - val_loss: 2.8156 - val_accuracy: 0.6767\n",
            "Epoch 46/50\n",
            "66/66 [==============================] - 1s 9ms/step - loss: 2.1706e-04 - accuracy: 1.0000 - val_loss: 2.8129 - val_accuracy: 0.6789\n",
            "Epoch 47/50\n",
            "66/66 [==============================] - 1s 9ms/step - loss: 2.1418e-04 - accuracy: 1.0000 - val_loss: 2.8146 - val_accuracy: 0.6800\n",
            "Epoch 48/50\n",
            "66/66 [==============================] - 1s 10ms/step - loss: 2.0428e-04 - accuracy: 1.0000 - val_loss: 2.8218 - val_accuracy: 0.6778\n",
            "Epoch 49/50\n",
            "66/66 [==============================] - 1s 10ms/step - loss: 1.9737e-04 - accuracy: 1.0000 - val_loss: 2.8075 - val_accuracy: 0.6833\n",
            "Epoch 50/50\n",
            "66/66 [==============================] - 1s 9ms/step - loss: 1.9469e-04 - accuracy: 1.0000 - val_loss: 2.8205 - val_accuracy: 0.6756\n"
          ]
        }
      ]
    },
    {
      "cell_type": "code",
      "metadata": {
        "id": "xkc9bK7nRvJy",
        "colab": {
          "base_uri": "https://localhost:8080/",
          "height": 295
        },
        "outputId": "c55c5d20-0ee2-4b98-e2f1-5e379f3143fa"
      },
      "source": [
        "def plotAccuracyError(information):\n",
        "    fig, ax = plt.subplots(2)\n",
        "    # create accuracy sublpot\n",
        "    ax[0].plot(information.history[\"accuracy\"], label=\"train accuracy\")\n",
        "    ax[0].plot(information.history[\"val_accuracy\"], label=\"test accuracy\")\n",
        "    ax[0].set_ylabel(\"Accuracy\")\n",
        "    ax[0].legend(loc=\"lower right\")\n",
        "    ax[0].set_title(\"Accuracy Evaluation\")\n",
        "    # create error sublpot\n",
        "    ax[1].plot(information.history[\"loss\"], label=\"train error\")\n",
        "    ax[1].plot(information.history[\"val_loss\"], label=\"test error\")\n",
        "    ax[1].set_ylabel(\"Error\")\n",
        "    ax[1].set_xlabel(\"Epoch\")\n",
        "    ax[1].legend(loc=\"upper right\")\n",
        "    ax[1].set_title(\"Error Evaluation\")\n",
        "    plt.show()\n",
        "# plot accuracy and error as a function of the epochs\n",
        "plotAccuracyError(information)"
      ],
      "execution_count": null,
      "outputs": [
        {
          "output_type": "display_data",
          "data": {
            "image/png": "[encoded data removed]",
            "text/plain": [
              "<Figure size 432x288 with 2 Axes>"
            ]
          },
          "metadata": {
            "needs_background": "light"
          }
        }
      ]
    },
    {
      "cell_type": "code",
      "metadata": {
        "id": "U4epubXlR1Ru"
      },
      "source": [
        "# build network topology\n",
        "simulation_network_topology = keras.Sequential([\n",
        "    # input layer\n",
        "    keras.layers.Flatten(input_shape=(mfccArray.shape[1], mfccArray.shape[2])),\n",
        "    # 1st dense layer\n",
        "    keras.layers.Dense(512, activation='relu', kernel_regularizer=keras.regularizers.l2(0.001)),\n",
        "    keras.layers.Dropout(0.3),\n",
        "    # 2nd dense layer\n",
        "    keras.layers.Dense(256, activation='relu', kernel_regularizer=keras.regularizers.l2(0.001)),\n",
        "    keras.layers.Dropout(0.3),\n",
        "    # 3rd dense layer\n",
        "    keras.layers.Dense(64, activation='relu', kernel_regularizer=keras.regularizers.l2(0.001)),\n",
        "    keras.layers.Dropout(0.3),\n",
        "    # output layer\n",
        "    keras.layers.Dense(10, activation='softmax')\n",
        "])"
      ],
      "execution_count": null,
      "outputs": []
    },
    {
      "cell_type": "code",
      "metadata": {
        "id": "yawhwPI-R5Me"
      },
      "source": [
        "# compile model\n",
        "advancer = keras.optimizers.Adam(learning_rate=0.0001)\n",
        "simulation_network_topology.compile(optimizer=advancer,\n",
        "              loss='sparse_categorical_crossentropy',\n",
        "              metrics=['accuracy'])"
      ],
      "execution_count": null,
      "outputs": []
    },
    {
      "cell_type": "code",
      "metadata": {
        "colab": {
          "base_uri": "https://localhost:8080/"
        },
        "id": "cbhHyFSIR7LW",
        "outputId": "8a15e007-6dea-43ca-efdb-8749c51f4af9"
      },
      "source": [
        "# train model\n",
        "information = simulation_network_topology.fit(X_train, y_train, validation_data=(X_test, y_test), batch_size=32, epochs=100)"
      ],
      "execution_count": null,
      "outputs": [
        {
          "output_type": "stream",
          "name": "stdout",
          "text": [
            "Epoch 1/100\n",
            "66/66 [==============================] - 2s 15ms/step - loss: 43.5833 - accuracy: 0.3443 - val_loss: 6.6123 - val_accuracy: 0.5256\n",
            "Epoch 2/100\n",
            "66/66 [==============================] - 1s 13ms/step - loss: 18.0241 - accuracy: 0.3781 - val_loss: 5.1552 - val_accuracy: 0.5100\n",
            "Epoch 3/100\n",
            "66/66 [==============================] - 1s 12ms/step - loss: 12.5122 - accuracy: 0.4014 - val_loss: 3.8328 - val_accuracy: 0.5322\n",
            "Epoch 4/100\n",
            "66/66 [==============================] - 1s 12ms/step - loss: 9.7666 - accuracy: 0.4133 - val_loss: 2.7442 - val_accuracy: 0.5511\n",
            "Epoch 5/100\n",
            "66/66 [==============================] - 1s 13ms/step - loss: 7.8186 - accuracy: 0.4295 - val_loss: 2.6711 - val_accuracy: 0.5500\n",
            "Epoch 6/100\n",
            "66/66 [==============================] - 1s 12ms/step - loss: 6.4249 - accuracy: 0.4271 - val_loss: 2.5205 - val_accuracy: 0.5600\n",
            "Epoch 7/100\n",
            "66/66 [==============================] - 1s 12ms/step - loss: 5.3702 - accuracy: 0.4657 - val_loss: 2.4509 - val_accuracy: 0.5611\n",
            "Epoch 8/100\n",
            "66/66 [==============================] - 1s 14ms/step - loss: 5.0942 - accuracy: 0.4500 - val_loss: 2.4606 - val_accuracy: 0.5467\n",
            "Epoch 9/100\n",
            "66/66 [==============================] - 1s 14ms/step - loss: 4.6015 - accuracy: 0.4338 - val_loss: 2.2817 - val_accuracy: 0.5589\n",
            "Epoch 10/100\n",
            "66/66 [==============================] - 1s 13ms/step - loss: 3.9311 - accuracy: 0.4767 - val_loss: 2.2012 - val_accuracy: 0.5800\n",
            "Epoch 11/100\n",
            "66/66 [==============================] - 1s 13ms/step - loss: 3.6973 - accuracy: 0.4643 - val_loss: 2.1717 - val_accuracy: 0.5711\n",
            "Epoch 12/100\n",
            "66/66 [==============================] - 1s 14ms/step - loss: 3.3974 - accuracy: 0.4795 - val_loss: 2.2180 - val_accuracy: 0.5222\n",
            "Epoch 13/100\n",
            "66/66 [==============================] - 1s 14ms/step - loss: 3.2034 - accuracy: 0.4781 - val_loss: 2.1540 - val_accuracy: 0.5400\n",
            "Epoch 14/100\n",
            "66/66 [==============================] - 1s 15ms/step - loss: 2.9742 - accuracy: 0.4790 - val_loss: 2.1315 - val_accuracy: 0.5433\n",
            "Epoch 15/100\n",
            "66/66 [==============================] - 1s 14ms/step - loss: 2.8530 - accuracy: 0.4862 - val_loss: 2.1328 - val_accuracy: 0.5211\n",
            "Epoch 16/100\n",
            "66/66 [==============================] - 1s 14ms/step - loss: 2.7895 - accuracy: 0.4810 - val_loss: 2.1396 - val_accuracy: 0.5278\n",
            "Epoch 17/100\n",
            "66/66 [==============================] - 1s 14ms/step - loss: 2.7125 - accuracy: 0.4900 - val_loss: 2.1016 - val_accuracy: 0.5389\n",
            "Epoch 18/100\n",
            "66/66 [==============================] - 1s 15ms/step - loss: 2.6780 - accuracy: 0.4967 - val_loss: 2.0541 - val_accuracy: 0.5656\n",
            "Epoch 19/100\n",
            "66/66 [==============================] - 1s 15ms/step - loss: 2.5082 - accuracy: 0.5057 - val_loss: 2.0289 - val_accuracy: 0.5589\n",
            "Epoch 20/100\n",
            "66/66 [==============================] - 1s 14ms/step - loss: 2.4356 - accuracy: 0.5257 - val_loss: 2.0770 - val_accuracy: 0.5278\n",
            "Epoch 21/100\n",
            "66/66 [==============================] - 1s 14ms/step - loss: 2.4260 - accuracy: 0.5262 - val_loss: 2.0095 - val_accuracy: 0.5800\n",
            "Epoch 22/100\n",
            "66/66 [==============================] - 1s 14ms/step - loss: 2.3463 - accuracy: 0.5319 - val_loss: 2.0010 - val_accuracy: 0.5756\n",
            "Epoch 23/100\n",
            "66/66 [==============================] - 1s 14ms/step - loss: 2.3030 - accuracy: 0.5490 - val_loss: 1.9701 - val_accuracy: 0.6167\n",
            "Epoch 24/100\n",
            "66/66 [==============================] - 1s 14ms/step - loss: 2.2715 - accuracy: 0.5438 - val_loss: 1.9678 - val_accuracy: 0.5978\n",
            "Epoch 25/100\n",
            "66/66 [==============================] - 1s 14ms/step - loss: 2.3258 - accuracy: 0.5586 - val_loss: 1.9407 - val_accuracy: 0.6322\n",
            "Epoch 26/100\n",
            "66/66 [==============================] - 1s 14ms/step - loss: 2.1907 - accuracy: 0.5700 - val_loss: 1.9777 - val_accuracy: 0.5900\n",
            "Epoch 27/100\n",
            "66/66 [==============================] - 1s 15ms/step - loss: 2.2120 - accuracy: 0.5538 - val_loss: 1.9338 - val_accuracy: 0.6333\n",
            "Epoch 28/100\n",
            "66/66 [==============================] - 1s 14ms/step - loss: 2.1923 - accuracy: 0.5790 - val_loss: 1.9393 - val_accuracy: 0.6278\n",
            "Epoch 29/100\n",
            "66/66 [==============================] - 1s 14ms/step - loss: 2.1961 - accuracy: 0.5643 - val_loss: 1.8935 - val_accuracy: 0.6533\n",
            "Epoch 30/100\n",
            "66/66 [==============================] - 1s 14ms/step - loss: 2.1173 - accuracy: 0.6105 - val_loss: 1.8952 - val_accuracy: 0.6367\n",
            "Epoch 31/100\n",
            "66/66 [==============================] - 1s 14ms/step - loss: 2.0974 - accuracy: 0.6067 - val_loss: 1.8996 - val_accuracy: 0.6633\n",
            "Epoch 32/100\n",
            "66/66 [==============================] - 1s 14ms/step - loss: 2.1046 - accuracy: 0.6038 - val_loss: 1.8999 - val_accuracy: 0.6422\n",
            "Epoch 33/100\n",
            "66/66 [==============================] - 1s 14ms/step - loss: 2.0301 - accuracy: 0.6181 - val_loss: 1.8892 - val_accuracy: 0.6478\n",
            "Epoch 34/100\n",
            "66/66 [==============================] - 1s 14ms/step - loss: 1.9390 - accuracy: 0.6614 - val_loss: 1.8529 - val_accuracy: 0.6656\n",
            "Epoch 35/100\n",
            "66/66 [==============================] - 1s 13ms/step - loss: 2.0172 - accuracy: 0.6429 - val_loss: 1.8583 - val_accuracy: 0.6600\n",
            "Epoch 36/100\n",
            "66/66 [==============================] - 1s 14ms/step - loss: 1.9464 - accuracy: 0.6524 - val_loss: 1.8776 - val_accuracy: 0.6711\n",
            "Epoch 37/100\n",
            "66/66 [==============================] - 1s 14ms/step - loss: 1.9267 - accuracy: 0.6524 - val_loss: 1.8528 - val_accuracy: 0.6567\n",
            "Epoch 38/100\n",
            "66/66 [==============================] - 1s 15ms/step - loss: 1.9133 - accuracy: 0.6686 - val_loss: 1.8604 - val_accuracy: 0.6833\n",
            "Epoch 39/100\n",
            "66/66 [==============================] - 1s 14ms/step - loss: 1.9119 - accuracy: 0.6657 - val_loss: 1.8289 - val_accuracy: 0.6878\n",
            "Epoch 40/100\n",
            "66/66 [==============================] - 1s 15ms/step - loss: 1.9001 - accuracy: 0.6667 - val_loss: 1.8369 - val_accuracy: 0.6900\n",
            "Epoch 41/100\n",
            "66/66 [==============================] - 1s 13ms/step - loss: 1.8648 - accuracy: 0.6795 - val_loss: 1.8152 - val_accuracy: 0.6911\n",
            "Epoch 42/100\n",
            "66/66 [==============================] - 1s 13ms/step - loss: 1.8330 - accuracy: 0.6705 - val_loss: 1.8188 - val_accuracy: 0.6922\n",
            "Epoch 43/100\n",
            "66/66 [==============================] - 1s 13ms/step - loss: 1.8010 - accuracy: 0.6990 - val_loss: 1.8046 - val_accuracy: 0.6833\n",
            "Epoch 44/100\n",
            "66/66 [==============================] - 1s 12ms/step - loss: 1.8040 - accuracy: 0.7029 - val_loss: 1.7721 - val_accuracy: 0.6978\n",
            "Epoch 45/100\n",
            "66/66 [==============================] - 1s 12ms/step - loss: 1.7858 - accuracy: 0.7100 - val_loss: 1.7895 - val_accuracy: 0.7111\n",
            "Epoch 46/100\n",
            "66/66 [==============================] - 1s 13ms/step - loss: 1.7890 - accuracy: 0.7005 - val_loss: 1.8128 - val_accuracy: 0.6811\n",
            "Epoch 47/100\n",
            "66/66 [==============================] - 1s 12ms/step - loss: 1.7645 - accuracy: 0.7171 - val_loss: 1.7713 - val_accuracy: 0.7167\n",
            "Epoch 48/100\n",
            "66/66 [==============================] - 1s 12ms/step - loss: 1.7615 - accuracy: 0.6981 - val_loss: 1.7722 - val_accuracy: 0.7056\n",
            "Epoch 49/100\n",
            "66/66 [==============================] - 1s 12ms/step - loss: 1.7225 - accuracy: 0.7210 - val_loss: 1.7804 - val_accuracy: 0.7111\n",
            "Epoch 50/100\n",
            "66/66 [==============================] - 1s 12ms/step - loss: 1.7004 - accuracy: 0.7195 - val_loss: 1.7881 - val_accuracy: 0.7122\n",
            "Epoch 51/100\n",
            "66/66 [==============================] - 1s 12ms/step - loss: 1.6834 - accuracy: 0.7381 - val_loss: 1.7951 - val_accuracy: 0.7056\n",
            "Epoch 52/100\n",
            "66/66 [==============================] - 1s 13ms/step - loss: 1.6858 - accuracy: 0.7262 - val_loss: 1.7411 - val_accuracy: 0.7233\n",
            "Epoch 53/100\n",
            "66/66 [==============================] - 1s 12ms/step - loss: 1.6516 - accuracy: 0.7500 - val_loss: 1.7425 - val_accuracy: 0.7222\n",
            "Epoch 54/100\n",
            "66/66 [==============================] - 1s 12ms/step - loss: 1.6447 - accuracy: 0.7414 - val_loss: 1.7459 - val_accuracy: 0.7244\n",
            "Epoch 55/100\n",
            "66/66 [==============================] - 1s 13ms/step - loss: 1.6264 - accuracy: 0.7490 - val_loss: 1.7237 - val_accuracy: 0.7178\n",
            "Epoch 56/100\n",
            "66/66 [==============================] - 1s 14ms/step - loss: 1.6093 - accuracy: 0.7590 - val_loss: 1.7746 - val_accuracy: 0.7144\n",
            "Epoch 57/100\n",
            "66/66 [==============================] - 1s 13ms/step - loss: 1.5757 - accuracy: 0.7667 - val_loss: 1.7588 - val_accuracy: 0.7233\n",
            "Epoch 58/100\n",
            "66/66 [==============================] - 1s 14ms/step - loss: 1.5926 - accuracy: 0.7643 - val_loss: 1.7726 - val_accuracy: 0.7233\n",
            "Epoch 59/100\n",
            "66/66 [==============================] - 1s 13ms/step - loss: 1.5795 - accuracy: 0.7686 - val_loss: 1.7397 - val_accuracy: 0.7200\n",
            "Epoch 60/100\n",
            "66/66 [==============================] - 1s 14ms/step - loss: 1.5364 - accuracy: 0.7776 - val_loss: 1.7812 - val_accuracy: 0.7000\n",
            "Epoch 61/100\n",
            "66/66 [==============================] - 1s 14ms/step - loss: 1.5214 - accuracy: 0.7824 - val_loss: 1.7631 - val_accuracy: 0.7200\n",
            "Epoch 62/100\n",
            "66/66 [==============================] - 1s 14ms/step - loss: 1.4913 - accuracy: 0.7929 - val_loss: 1.7897 - val_accuracy: 0.7200\n",
            "Epoch 63/100\n",
            "66/66 [==============================] - 1s 14ms/step - loss: 1.5280 - accuracy: 0.7876 - val_loss: 1.7298 - val_accuracy: 0.7189\n",
            "Epoch 64/100\n",
            "66/66 [==============================] - 1s 13ms/step - loss: 1.4738 - accuracy: 0.8038 - val_loss: 1.7502 - val_accuracy: 0.7167\n",
            "Epoch 65/100\n",
            "66/66 [==============================] - 1s 12ms/step - loss: 1.4349 - accuracy: 0.8238 - val_loss: 1.7689 - val_accuracy: 0.7144\n",
            "Epoch 66/100\n",
            "66/66 [==============================] - 1s 12ms/step - loss: 1.4639 - accuracy: 0.8081 - val_loss: 1.7666 - val_accuracy: 0.7289\n",
            "Epoch 67/100\n",
            "66/66 [==============================] - 1s 12ms/step - loss: 1.4714 - accuracy: 0.8081 - val_loss: 1.7812 - val_accuracy: 0.7344\n",
            "Epoch 68/100\n",
            "66/66 [==============================] - 1s 12ms/step - loss: 1.4421 - accuracy: 0.8162 - val_loss: 1.7628 - val_accuracy: 0.7233\n",
            "Epoch 69/100\n",
            "66/66 [==============================] - 1s 12ms/step - loss: 1.4070 - accuracy: 0.8243 - val_loss: 1.7726 - val_accuracy: 0.7256\n",
            "Epoch 70/100\n",
            "66/66 [==============================] - 1s 12ms/step - loss: 1.4254 - accuracy: 0.8257 - val_loss: 1.7354 - val_accuracy: 0.7400\n",
            "Epoch 71/100\n",
            "66/66 [==============================] - 1s 12ms/step - loss: 1.3712 - accuracy: 0.8400 - val_loss: 1.7471 - val_accuracy: 0.7333\n",
            "Epoch 72/100\n",
            "66/66 [==============================] - 1s 12ms/step - loss: 1.3605 - accuracy: 0.8405 - val_loss: 1.8105 - val_accuracy: 0.7256\n",
            "Epoch 73/100\n",
            "66/66 [==============================] - 1s 12ms/step - loss: 1.3505 - accuracy: 0.8367 - val_loss: 1.8157 - val_accuracy: 0.7233\n",
            "Epoch 74/100\n",
            "66/66 [==============================] - 1s 12ms/step - loss: 1.3183 - accuracy: 0.8500 - val_loss: 1.8032 - val_accuracy: 0.7333\n",
            "Epoch 75/100\n",
            "66/66 [==============================] - 1s 12ms/step - loss: 1.3553 - accuracy: 0.8400 - val_loss: 1.8013 - val_accuracy: 0.7189\n",
            "Epoch 76/100\n",
            "66/66 [==============================] - 1s 12ms/step - loss: 1.3147 - accuracy: 0.8600 - val_loss: 1.8879 - val_accuracy: 0.7233\n",
            "Epoch 77/100\n",
            "66/66 [==============================] - 1s 12ms/step - loss: 1.3159 - accuracy: 0.8452 - val_loss: 1.7736 - val_accuracy: 0.7300\n",
            "Epoch 78/100\n",
            "66/66 [==============================] - 1s 12ms/step - loss: 1.2892 - accuracy: 0.8681 - val_loss: 1.8127 - val_accuracy: 0.7300\n",
            "Epoch 79/100\n",
            "66/66 [==============================] - 1s 12ms/step - loss: 1.3065 - accuracy: 0.8490 - val_loss: 1.8432 - val_accuracy: 0.7256\n",
            "Epoch 80/100\n",
            "66/66 [==============================] - 1s 12ms/step - loss: 1.2891 - accuracy: 0.8552 - val_loss: 1.9074 - val_accuracy: 0.7222\n",
            "Epoch 81/100\n",
            "66/66 [==============================] - 1s 12ms/step - loss: 1.2947 - accuracy: 0.8533 - val_loss: 1.8034 - val_accuracy: 0.7367\n",
            "Epoch 82/100\n",
            "66/66 [==============================] - 1s 12ms/step - loss: 1.2335 - accuracy: 0.8729 - val_loss: 1.8814 - val_accuracy: 0.7333\n",
            "Epoch 83/100\n",
            "66/66 [==============================] - 1s 12ms/step - loss: 1.2497 - accuracy: 0.8595 - val_loss: 1.8588 - val_accuracy: 0.7367\n",
            "Epoch 84/100\n",
            "66/66 [==============================] - 1s 12ms/step - loss: 1.1955 - accuracy: 0.8886 - val_loss: 1.8812 - val_accuracy: 0.7344\n",
            "Epoch 85/100\n",
            "66/66 [==============================] - 1s 12ms/step - loss: 1.2003 - accuracy: 0.8852 - val_loss: 1.8668 - val_accuracy: 0.7478\n",
            "Epoch 86/100\n",
            "66/66 [==============================] - 1s 12ms/step - loss: 1.2317 - accuracy: 0.8776 - val_loss: 1.8404 - val_accuracy: 0.7189\n",
            "Epoch 87/100\n",
            "66/66 [==============================] - 1s 12ms/step - loss: 1.1886 - accuracy: 0.8857 - val_loss: 1.8258 - val_accuracy: 0.7222\n",
            "Epoch 88/100\n",
            "66/66 [==============================] - 1s 12ms/step - loss: 1.1770 - accuracy: 0.8843 - val_loss: 1.9324 - val_accuracy: 0.7222\n",
            "Epoch 89/100\n",
            "66/66 [==============================] - 1s 12ms/step - loss: 1.1454 - accuracy: 0.8938 - val_loss: 1.9169 - val_accuracy: 0.7222\n",
            "Epoch 90/100\n",
            "66/66 [==============================] - 1s 13ms/step - loss: 1.1560 - accuracy: 0.8929 - val_loss: 1.8848 - val_accuracy: 0.7300\n",
            "Epoch 91/100\n",
            "66/66 [==============================] - 1s 12ms/step - loss: 1.1398 - accuracy: 0.8933 - val_loss: 1.9858 - val_accuracy: 0.7167\n",
            "Epoch 92/100\n",
            "66/66 [==============================] - 1s 12ms/step - loss: 1.1100 - accuracy: 0.9038 - val_loss: 1.9553 - val_accuracy: 0.7522\n",
            "Epoch 93/100\n",
            "66/66 [==============================] - 1s 13ms/step - loss: 1.1392 - accuracy: 0.9000 - val_loss: 1.9388 - val_accuracy: 0.7389\n",
            "Epoch 94/100\n",
            "66/66 [==============================] - 1s 12ms/step - loss: 1.1116 - accuracy: 0.9076 - val_loss: 1.8658 - val_accuracy: 0.7233\n",
            "Epoch 95/100\n",
            "66/66 [==============================] - 1s 12ms/step - loss: 1.1173 - accuracy: 0.8990 - val_loss: 1.9296 - val_accuracy: 0.7300\n",
            "Epoch 96/100\n",
            "66/66 [==============================] - 1s 12ms/step - loss: 1.1009 - accuracy: 0.9076 - val_loss: 2.0210 - val_accuracy: 0.7322\n",
            "Epoch 97/100\n",
            "66/66 [==============================] - 1s 13ms/step - loss: 1.0697 - accuracy: 0.9157 - val_loss: 2.0732 - val_accuracy: 0.7244\n",
            "Epoch 98/100\n",
            "66/66 [==============================] - 1s 13ms/step - loss: 1.0469 - accuracy: 0.9200 - val_loss: 1.9973 - val_accuracy: 0.7244\n",
            "Epoch 99/100\n",
            "66/66 [==============================] - 1s 12ms/step - loss: 1.0741 - accuracy: 0.9100 - val_loss: 1.9841 - val_accuracy: 0.7433\n",
            "Epoch 100/100\n",
            "66/66 [==============================] - 1s 12ms/step - loss: 1.0340 - accuracy: 0.9186 - val_loss: 2.0619 - val_accuracy: 0.7367\n"
          ]
        }
      ]
    },
    {
      "cell_type": "code",
      "metadata": {
        "colab": {
          "base_uri": "https://localhost:8080/",
          "height": 295
        },
        "id": "hANTayMxSVee",
        "outputId": "b5dced1c-22ac-419a-b550-badf57b2ef3a"
      },
      "source": [
        "# plot accuracy and error as a function of the epochs\n",
        "plotAccuracyError(information)"
      ],
      "execution_count": null,
      "outputs": [
        {
          "output_type": "display_data",
          "data": {
            "image/png": "[encoded data removed]",
            "text/plain": [
              "<Figure size 432x288 with 2 Axes>"
            ]
          },
          "metadata": {
            "needs_background": "light"
          }
        }
      ]
    },
    {
      "cell_type": "code",
      "metadata": {
        "id": "wG65N1EaSXxl",
        "colab": {
          "base_uri": "https://localhost:8080/"
        },
        "outputId": "2b39a677-c652-40a9-b3bd-e6f2939e94d6"
      },
      "source": [
        "# create train, validation and test split\n",
        "X_train, X_test, y_train, y_test = train_test_split(mfccArray, labelsArray, test_size=0.25)\n",
        "X_train, X_validation, y_train, y_validation = train_test_split(X_train, y_train, test_size=0.2)\n",
        "# add an axis to input sets\n",
        "X_validation = X_validation[..., np.newaxis]\n",
        "X_train = X_train[..., np.newaxis]\n",
        "X_test = X_test[..., np.newaxis]\n",
        "print(\"X train Shape:\",X_train.shape)"
      ],
      "execution_count": null,
      "outputs": [
        {
          "output_type": "stream",
          "name": "stdout",
          "text": [
            "X train Shape: (1800, 130, 13, 1)\n"
          ]
        }
      ]
    },
    {
      "cell_type": "code",
      "metadata": {
        "id": "TqTWxvIASdoc",
        "colab": {
          "base_uri": "https://localhost:8080/"
        },
        "outputId": "73fc7c9f-a75e-4886-fa96-512aa9114923"
      },
      "source": [
        "myShape = (X_train.shape[1], X_train.shape[2], 1)\n",
        "# build the CNN\n",
        "cnnSimulation = keras.Sequential()\n",
        "\n",
        "# 1st conv layer\n",
        "cnnSimulation.add(keras.layers.Conv2D(32, (3, 3), activation='relu', input_shape=myShape))\n",
        "cnnSimulation.add(keras.layers.MaxPooling2D((3, 3), strides=(2, 2), padding='same'))\n",
        "cnnSimulation.add(keras.layers.BatchNormalization())\n",
        "\n",
        "# 2nd conv layer\n",
        "cnnSimulation.add(keras.layers.Conv2D(32, (3, 3), activation='relu'))\n",
        "cnnSimulation.add(keras.layers.MaxPooling2D((3, 3), strides=(2, 2), padding='same'))\n",
        "cnnSimulation.add(keras.layers.BatchNormalization())\n",
        "\n",
        "# 3rd conv layer\n",
        "cnnSimulation.add(keras.layers.Conv2D(32, (2, 2), activation='relu'))\n",
        "cnnSimulation.add(keras.layers.MaxPooling2D((2, 2), strides=(2, 2), padding='same'))\n",
        "cnnSimulation.add(keras.layers.BatchNormalization())\n",
        "\n",
        "# flatten output and feed it into dense layer\n",
        "cnnSimulation.add(keras.layers.Flatten())\n",
        "cnnSimulation.add(keras.layers.Dense(64, activation='relu'))\n",
        "cnnSimulation.add(keras.layers.Dropout(0.3))\n",
        "\n",
        "# output layer\n",
        "cnnSimulation.add(keras.layers.Dense(10, activation='softmax'))\n",
        "\n",
        "# compile model\n",
        "advancer = keras.optimizers.Adam(learning_rate=0.0001)\n",
        "cnnSimulation.compile(optimizer=advancer,\n",
        "              loss='sparse_categorical_crossentropy',\n",
        "              metrics=['accuracy'])\n",
        "cnnSimulation.summary()"
      ],
      "execution_count": null,
      "outputs": [
        {
          "output_type": "stream",
          "name": "stdout",
          "text": [
            "Model: \"sequential_3\"\n",
            "_________________________________________________________________\n",
            " Layer (type)                Output Shape              Param #   \n",
            "=================================================================\n",
            " conv2d (Conv2D)             (None, 128, 11, 32)       320       \n",
            "                                                                 \n",
            " max_pooling2d (MaxPooling2D  (None, 64, 6, 32)        0         \n",
            " )                                                               \n",
            "                                                                 \n",
            " batch_normalization (BatchN  (None, 64, 6, 32)        128       \n",
            " ormalization)                                                   \n",
            "                                                                 \n",
            " conv2d_1 (Conv2D)           (None, 62, 4, 32)         9248      \n",
            "                                                                 \n",
            " max_pooling2d_1 (MaxPooling  (None, 31, 2, 32)        0         \n",
            " 2D)                                                             \n",
            "                                                                 \n",
            " batch_normalization_1 (Batc  (None, 31, 2, 32)        128       \n",
            " hNormalization)                                                 \n",
            "                                                                 \n",
            " conv2d_2 (Conv2D)           (None, 30, 1, 32)         4128      \n",
            "                                                                 \n",
            " max_pooling2d_2 (MaxPooling  (None, 15, 1, 32)        0         \n",
            " 2D)                                                             \n",
            "                                                                 \n",
            " batch_normalization_2 (Batc  (None, 15, 1, 32)        128       \n",
            " hNormalization)                                                 \n",
            "                                                                 \n",
            " flatten_3 (Flatten)         (None, 480)               0         \n",
            "                                                                 \n",
            " dense_12 (Dense)            (None, 64)                30784     \n",
            "                                                                 \n",
            " dropout_3 (Dropout)         (None, 64)                0         \n",
            "                                                                 \n",
            " dense_13 (Dense)            (None, 10)                650       \n",
            "                                                                 \n",
            "=================================================================\n",
            "Total params: 45,514\n",
            "Trainable params: 45,322\n",
            "Non-trainable params: 192\n",
            "_________________________________________________________________\n"
          ]
        }
      ]
    },
    {
      "cell_type": "code",
      "metadata": {
        "colab": {
          "base_uri": "https://localhost:8080/"
        },
        "id": "MQkNPmXESi3V",
        "outputId": "e0eab814-9438-4921-9acf-ea3841e97cd6"
      },
      "source": [
        "# train model\n",
        "information = cnnSimulation.fit(X_train, y_train, validation_data=(X_validation, y_validation), batch_size=32, epochs=50)"
      ],
      "execution_count": null,
      "outputs": [
        {
          "output_type": "stream",
          "name": "stdout",
          "text": [
            "Epoch 1/50\n",
            "57/57 [==============================] - 4s 60ms/step - loss: 3.2240 - accuracy: 0.1067 - val_loss: 2.7854 - val_accuracy: 0.0222\n",
            "Epoch 2/50\n",
            "57/57 [==============================] - 3s 58ms/step - loss: 2.4495 - accuracy: 0.2661 - val_loss: 1.9600 - val_accuracy: 0.3222\n",
            "Epoch 3/50\n",
            "57/57 [==============================] - 3s 58ms/step - loss: 1.9389 - accuracy: 0.4117 - val_loss: 1.5167 - val_accuracy: 0.5067\n",
            "Epoch 4/50\n",
            "57/57 [==============================] - 3s 57ms/step - loss: 1.5109 - accuracy: 0.5356 - val_loss: 1.2206 - val_accuracy: 0.6178\n",
            "Epoch 5/50\n",
            "57/57 [==============================] - 3s 58ms/step - loss: 1.2516 - accuracy: 0.6283 - val_loss: 1.0185 - val_accuracy: 0.6956\n",
            "Epoch 6/50\n",
            "57/57 [==============================] - 3s 58ms/step - loss: 1.0650 - accuracy: 0.6600 - val_loss: 0.8841 - val_accuracy: 0.7333\n",
            "Epoch 7/50\n",
            "57/57 [==============================] - 3s 58ms/step - loss: 0.9349 - accuracy: 0.7211 - val_loss: 0.7786 - val_accuracy: 0.7467\n",
            "Epoch 8/50\n",
            "57/57 [==============================] - 3s 57ms/step - loss: 0.8622 - accuracy: 0.7367 - val_loss: 0.7270 - val_accuracy: 0.7667\n",
            "Epoch 9/50\n",
            "57/57 [==============================] - 3s 58ms/step - loss: 0.7475 - accuracy: 0.7672 - val_loss: 0.6716 - val_accuracy: 0.7778\n",
            "Epoch 10/50\n",
            "57/57 [==============================] - 3s 58ms/step - loss: 0.7047 - accuracy: 0.7739 - val_loss: 0.6319 - val_accuracy: 0.7822\n",
            "Epoch 11/50\n",
            "57/57 [==============================] - 3s 58ms/step - loss: 0.6213 - accuracy: 0.8017 - val_loss: 0.5890 - val_accuracy: 0.8067\n",
            "Epoch 12/50\n",
            "57/57 [==============================] - 3s 58ms/step - loss: 0.6035 - accuracy: 0.7950 - val_loss: 0.5664 - val_accuracy: 0.7956\n",
            "Epoch 13/50\n",
            "57/57 [==============================] - 3s 57ms/step - loss: 0.5530 - accuracy: 0.8222 - val_loss: 0.5544 - val_accuracy: 0.7978\n",
            "Epoch 14/50\n",
            "57/57 [==============================] - 3s 58ms/step - loss: 0.5324 - accuracy: 0.8278 - val_loss: 0.5270 - val_accuracy: 0.8244\n",
            "Epoch 15/50\n",
            "57/57 [==============================] - 3s 58ms/step - loss: 0.4842 - accuracy: 0.8383 - val_loss: 0.5011 - val_accuracy: 0.8222\n",
            "Epoch 16/50\n",
            "57/57 [==============================] - 3s 58ms/step - loss: 0.4681 - accuracy: 0.8461 - val_loss: 0.5202 - val_accuracy: 0.8067\n",
            "Epoch 17/50\n",
            "57/57 [==============================] - 3s 58ms/step - loss: 0.4481 - accuracy: 0.8533 - val_loss: 0.5079 - val_accuracy: 0.8133\n",
            "Epoch 18/50\n",
            "57/57 [==============================] - 3s 58ms/step - loss: 0.4005 - accuracy: 0.8644 - val_loss: 0.4855 - val_accuracy: 0.8156\n",
            "Epoch 19/50\n",
            "57/57 [==============================] - 3s 58ms/step - loss: 0.3906 - accuracy: 0.8700 - val_loss: 0.4589 - val_accuracy: 0.8356\n",
            "Epoch 20/50\n",
            "57/57 [==============================] - 3s 57ms/step - loss: 0.3814 - accuracy: 0.8717 - val_loss: 0.4461 - val_accuracy: 0.8422\n",
            "Epoch 21/50\n",
            "57/57 [==============================] - 3s 57ms/step - loss: 0.3472 - accuracy: 0.8817 - val_loss: 0.4328 - val_accuracy: 0.8400\n",
            "Epoch 22/50\n",
            "57/57 [==============================] - 3s 58ms/step - loss: 0.3346 - accuracy: 0.8856 - val_loss: 0.4275 - val_accuracy: 0.8378\n",
            "Epoch 23/50\n",
            "57/57 [==============================] - 3s 58ms/step - loss: 0.3141 - accuracy: 0.8939 - val_loss: 0.4679 - val_accuracy: 0.8289\n",
            "Epoch 24/50\n",
            "57/57 [==============================] - 3s 58ms/step - loss: 0.3216 - accuracy: 0.8817 - val_loss: 0.4110 - val_accuracy: 0.8511\n",
            "Epoch 25/50\n",
            "57/57 [==============================] - 3s 58ms/step - loss: 0.2753 - accuracy: 0.9061 - val_loss: 0.4324 - val_accuracy: 0.8356\n",
            "Epoch 26/50\n",
            "57/57 [==============================] - 3s 58ms/step - loss: 0.2816 - accuracy: 0.9056 - val_loss: 0.4102 - val_accuracy: 0.8378\n",
            "Epoch 27/50\n",
            "57/57 [==============================] - 3s 58ms/step - loss: 0.2651 - accuracy: 0.9139 - val_loss: 0.3972 - val_accuracy: 0.8556\n",
            "Epoch 28/50\n",
            "57/57 [==============================] - 3s 58ms/step - loss: 0.2446 - accuracy: 0.9161 - val_loss: 0.4150 - val_accuracy: 0.8511\n",
            "Epoch 29/50\n",
            "57/57 [==============================] - 3s 58ms/step - loss: 0.2605 - accuracy: 0.9089 - val_loss: 0.3974 - val_accuracy: 0.8556\n",
            "Epoch 30/50\n",
            "57/57 [==============================] - 3s 59ms/step - loss: 0.2263 - accuracy: 0.9294 - val_loss: 0.4183 - val_accuracy: 0.8489\n",
            "Epoch 31/50\n",
            "57/57 [==============================] - 3s 58ms/step - loss: 0.2154 - accuracy: 0.9311 - val_loss: 0.4213 - val_accuracy: 0.8556\n",
            "Epoch 32/50\n",
            "57/57 [==============================] - 3s 58ms/step - loss: 0.2150 - accuracy: 0.9317 - val_loss: 0.3969 - val_accuracy: 0.8556\n",
            "Epoch 33/50\n",
            "57/57 [==============================] - 3s 58ms/step - loss: 0.2055 - accuracy: 0.9306 - val_loss: 0.3967 - val_accuracy: 0.8622\n",
            "Epoch 34/50\n",
            "57/57 [==============================] - 3s 59ms/step - loss: 0.1860 - accuracy: 0.9422 - val_loss: 0.3971 - val_accuracy: 0.8622\n",
            "Epoch 35/50\n",
            "57/57 [==============================] - 3s 58ms/step - loss: 0.1720 - accuracy: 0.9528 - val_loss: 0.4215 - val_accuracy: 0.8533\n",
            "Epoch 36/50\n",
            "57/57 [==============================] - 3s 59ms/step - loss: 0.1782 - accuracy: 0.9411 - val_loss: 0.3770 - val_accuracy: 0.8667\n",
            "Epoch 37/50\n",
            "57/57 [==============================] - 3s 58ms/step - loss: 0.1711 - accuracy: 0.9383 - val_loss: 0.3635 - val_accuracy: 0.8622\n",
            "Epoch 38/50\n",
            "57/57 [==============================] - 3s 58ms/step - loss: 0.1691 - accuracy: 0.9472 - val_loss: 0.3720 - val_accuracy: 0.8533\n",
            "Epoch 39/50\n",
            "57/57 [==============================] - 3s 59ms/step - loss: 0.1724 - accuracy: 0.9472 - val_loss: 0.3774 - val_accuracy: 0.8533\n",
            "Epoch 40/50\n",
            "57/57 [==============================] - 3s 58ms/step - loss: 0.1540 - accuracy: 0.9528 - val_loss: 0.3645 - val_accuracy: 0.8667\n",
            "Epoch 41/50\n",
            "57/57 [==============================] - 3s 58ms/step - loss: 0.1444 - accuracy: 0.9522 - val_loss: 0.3976 - val_accuracy: 0.8489\n",
            "Epoch 42/50\n",
            "57/57 [==============================] - 3s 59ms/step - loss: 0.1475 - accuracy: 0.9567 - val_loss: 0.3621 - val_accuracy: 0.8733\n",
            "Epoch 43/50\n",
            "57/57 [==============================] - 3s 58ms/step - loss: 0.1459 - accuracy: 0.9606 - val_loss: 0.3724 - val_accuracy: 0.8667\n",
            "Epoch 44/50\n",
            "57/57 [==============================] - 3s 58ms/step - loss: 0.1357 - accuracy: 0.9517 - val_loss: 0.3729 - val_accuracy: 0.8600\n",
            "Epoch 45/50\n",
            "57/57 [==============================] - 3s 57ms/step - loss: 0.1268 - accuracy: 0.9594 - val_loss: 0.3782 - val_accuracy: 0.8644\n",
            "Epoch 46/50\n",
            "57/57 [==============================] - 3s 58ms/step - loss: 0.1316 - accuracy: 0.9617 - val_loss: 0.3544 - val_accuracy: 0.8711\n",
            "Epoch 47/50\n",
            "57/57 [==============================] - 3s 58ms/step - loss: 0.1202 - accuracy: 0.9639 - val_loss: 0.3622 - val_accuracy: 0.8733\n",
            "Epoch 48/50\n",
            "57/57 [==============================] - 3s 59ms/step - loss: 0.1236 - accuracy: 0.9628 - val_loss: 0.3749 - val_accuracy: 0.8733\n",
            "Epoch 49/50\n",
            "57/57 [==============================] - 3s 58ms/step - loss: 0.0977 - accuracy: 0.9767 - val_loss: 0.3606 - val_accuracy: 0.8667\n",
            "Epoch 50/50\n",
            "57/57 [==============================] - 3s 59ms/step - loss: 0.1127 - accuracy: 0.9639 - val_loss: 0.3593 - val_accuracy: 0.8778\n"
          ]
        }
      ]
    },
    {
      "cell_type": "code",
      "metadata": {
        "colab": {
          "base_uri": "https://localhost:8080/",
          "height": 295
        },
        "id": "y36ZzTtlS46J",
        "outputId": "4d610bf3-2562-4351-8d4c-30712e28b007"
      },
      "source": [
        "# plot accuracy and error as a function of the epochs\n",
        "plotAccuracyError(information)"
      ],
      "execution_count": null,
      "outputs": [
        {
          "output_type": "display_data",
          "data": {
            "image/png": "[encoded data removed]",
            "text/plain": [
              "<Figure size 432x288 with 2 Axes>"
            ]
          },
          "metadata": {
            "needs_background": "light"
          }
        }
      ]
    },
    {
      "cell_type": "markdown",
      "metadata": {
        "id": "7SdbHua0neZd"
      },
      "source": [
        "**Model Evaluation Accuracy**"
      ]
    },
    {
      "cell_type": "code",
      "metadata": {
        "colab": {
          "base_uri": "https://localhost:8080/"
        },
        "id": "OVj1DLofTHKs",
        "outputId": "cd9a8930-8c3d-40a0-9225-58056d3a67b5"
      },
      "source": [
        "# evaluate model on Test Set\n",
        "trialLoss, trialAcc = cnnSimulation.evaluate(X_test, y_test, verbose=2)\n",
        "print('\\nTest accuracy:', trialAcc)"
      ],
      "execution_count": null,
      "outputs": [
        {
          "output_type": "stream",
          "name": "stdout",
          "text": [
            "24/24 - 0s - loss: 0.3747 - accuracy: 0.8720 - 273ms/epoch - 11ms/step\n",
            "\n",
            "Test accuracy: 0.871999979019165\n"
          ]
        }
      ]
    },
    {
      "cell_type": "code",
      "metadata": {
        "id": "lb4fuTa2mEPo"
      },
      "source": [
        "XtrainReducedDimension = X_train.reshape(X_train.shape[0], -1)\n",
        "YtrainReducedDimension  = y_train.reshape(y_train.shape[0], -1)\n",
        "XtestReducedDimension = X_test.reshape(X_test.shape[0], -1)\n",
        "YtestReducedDimension  = y_test.reshape(y_test.shape[0], -1)"
      ],
      "execution_count": null,
      "outputs": []
    },
    {
      "cell_type": "markdown",
      "metadata": {
        "id": "M2rcMBQklJUt"
      },
      "source": [
        "**Gaussian Accuracy**"
      ]
    },
    {
      "cell_type": "code",
      "metadata": {
        "colab": {
          "base_uri": "https://localhost:8080/"
        },
        "id": "_rxDVPLBic2-",
        "outputId": "8b7ee080-44c7-45b2-c6d7-f3ea7145e0e4"
      },
      "source": [
        "from sklearn.naive_bayes import GaussianNB\n",
        "from sklearn import metrics\n",
        "#Create a Gaussian Classifier\n",
        "gnb = GaussianNB()\n",
        "XtrainGnb = X_train.reshape(X_train.shape[0], -1)\n",
        "YtrainGnb = y_train.reshape(y_train.shape[0], -1)\n",
        "#Train the model using the training sets\n",
        "gnb.fit(XtrainGnb, YtrainGnb)\n",
        "\n",
        "XtestGnb = X_test.reshape(X_test.shape[0], -1)\n",
        "YtestGnb = y_test.reshape(y_test.shape[0], -1)\n",
        "#Predict the response for test dataset\n",
        "y_predGnB = gnb.predict(XtestGnb)\n",
        "print(\"Gaussian Accuracy:\",metrics.accuracy_score(y_test, y_predGnB))"
      ],
      "execution_count": null,
      "outputs": [
        {
          "output_type": "stream",
          "name": "stdout",
          "text": [
            "Gaussian Accuracy: 0.7333333333333333\n"
          ]
        },
        {
          "output_type": "stream",
          "name": "stderr",
          "text": [
            "/usr/local/lib/python3.7/dist-packages/sklearn/utils/validation.py:985: DataConversionWarning: A column-vector y was passed when a 1d array was expected. Please change the shape of y to (n_samples, ), for example using ravel().\n",
            "  y = column_or_1d(y, warn=True)\n"
          ]
        }
      ]
    },
    {
      "cell_type": "markdown",
      "metadata": {
        "id": "6kisrNTdlNDW"
      },
      "source": [
        "**Random Forest Accuracy**"
      ]
    },
    {
      "cell_type": "code",
      "metadata": {
        "colab": {
          "base_uri": "https://localhost:8080/"
        },
        "id": "8zjudk2AlL2O",
        "outputId": "be917793-6628-4979-bb86-18236f8bea6a"
      },
      "source": [
        "#Import Random Forest Model\n",
        "from sklearn.ensemble import RandomForestClassifier\n",
        "\n",
        "XtrainRandomForest = X_train.reshape(X_train.shape[0], -1)\n",
        "YtrainRandomForest = y_train.reshape(y_train.shape[0], -1)\n",
        "XtestRandomForest = X_test.reshape(X_test.shape[0], -1)\n",
        "YtestRandomForest = y_test.reshape(y_test.shape[0], -1)\n",
        "#Create a Gaussian Classifier\n",
        "clf=RandomForestClassifier(n_estimators=100)\n",
        "\n",
        "#Train the model using the training sets y_pred=clf.predict(X_test)\n",
        "clf.fit(XtrainRandomForest,YtrainRandomForest)\n",
        "\n",
        "y_predRandomForest=clf.predict(XtestRandomForest)\n",
        "\n",
        "print(\"Random Forest Accuracy:\",metrics.accuracy_score(y_test, y_predRandomForest))"
      ],
      "execution_count": null,
      "outputs": [
        {
          "output_type": "stream",
          "name": "stderr",
          "text": [
            "/usr/local/lib/python3.7/dist-packages/ipykernel_launcher.py:12: DataConversionWarning: A column-vector y was passed when a 1d array was expected. Please change the shape of y to (n_samples,), for example using ravel().\n",
            "  if sys.path[0] == '':\n"
          ]
        },
        {
          "output_type": "stream",
          "name": "stdout",
          "text": [
            "Random Forest Accuracy: 0.744\n"
          ]
        }
      ]
    },
    {
      "cell_type": "markdown",
      "metadata": {
        "id": "nMK7CYiMl8vO"
      },
      "source": [
        "**SVM Accuracy**"
      ]
    },
    {
      "cell_type": "code",
      "metadata": {
        "colab": {
          "base_uri": "https://localhost:8080/"
        },
        "id": "7-HQg21gl-sl",
        "outputId": "085c1494-50e2-47d6-bdc8-e3b1646defab"
      },
      "source": [
        "#Import svm model\n",
        "from sklearn import svm\n",
        "\n",
        "#Create a svm Classifier\n",
        "clf = svm.SVC(kernel='linear') # Linear Kernel\n",
        "\n",
        "#Train the model using the training sets\n",
        "clf.fit(XtrainReducedDimension, YtrainReducedDimension)\n",
        "\n",
        "#Predict the response for test dataset\n",
        "y_predSVM = clf.predict(XtestReducedDimension)\n",
        "\n",
        "#Import scikit-learn metrics module for accuracy calculation\n",
        "from sklearn import metrics\n",
        "\n",
        "# Model Accuracy: how often is the classifier correct?\n",
        "print(\"SVM Accuracy:\",metrics.accuracy_score(y_test, y_predSVM))"
      ],
      "execution_count": null,
      "outputs": [
        {
          "output_type": "stream",
          "name": "stderr",
          "text": [
            "/usr/local/lib/python3.7/dist-packages/sklearn/utils/validation.py:985: DataConversionWarning: A column-vector y was passed when a 1d array was expected. Please change the shape of y to (n_samples, ), for example using ravel().\n",
            "  y = column_or_1d(y, warn=True)\n"
          ]
        },
        {
          "output_type": "stream",
          "name": "stdout",
          "text": [
            "SVM Accuracy: 0.576\n"
          ]
        }
      ]
    },
    {
      "cell_type": "code",
      "metadata": {
        "colab": {
          "base_uri": "https://localhost:8080/"
        },
        "id": "CI3rotU1TJry",
        "outputId": "67684e5f-5902-4788-8476-eb6b97101939"
      },
      "source": [
        "cnnSimulation.save(\"LanguageData_CNN\")\n",
        "cnnSimulation.save(\"LanguageData_CNN.h5\")\n",
        "reconstructed_model = keras.models.load_model(\"LanguageData_CNN.h5\")\n",
        "\n",
        "Xindicator = X_test[100]\n",
        "yIndicator = y_test[100]"
      ],
      "execution_count": null,
      "outputs": [
        {
          "output_type": "stream",
          "name": "stdout",
          "text": [
            "INFO:tensorflow:Assets written to: LanguageData_CNN/assets\n"
          ]
        }
      ]
    },
    {
      "cell_type": "code",
      "metadata": {
        "colab": {
          "base_uri": "https://localhost:8080/"
        },
        "id": "HaBmzO-RTQ-s",
        "outputId": "4db0d2e7-b2bc-4855-b3b6-33e6f15fe9f3"
      },
      "source": [
        "print(\"my X prediction:\",Xindicator.shape)\n",
        "print(\"Real Language:\", yIndicator)\n",
        "# add a dimension to input data for sample - model.predict() expects a 4d array in this case\n",
        "Xindicator = Xindicator[np.newaxis, ...] # array shape (1, 130, 13, 1)\n",
        "print(\"my X prediction with dimension added:\",Xindicator.shape)\n"
      ],
      "execution_count": null,
      "outputs": [
        {
          "output_type": "stream",
          "name": "stdout",
          "text": [
            "my X prediction: (130, 13, 1)\n",
            "Real Language: 2\n",
            "my X prediction with dimension added: (1, 130, 13, 1)\n"
          ]
        }
      ]
    },
    {
      "cell_type": "code",
      "metadata": {
        "colab": {
          "base_uri": "https://localhost:8080/"
        },
        "id": "5QpX9FH_oMro",
        "outputId": "a109bc33-154e-4921-84f7-f531a3b4d1ee"
      },
      "source": [
        "# perform prediction\n",
        "prediction = cnnSimulation.predict(Xindicator)\n",
        "# get index with max value\n",
        "indexMax = np.argmax(prediction, axis=1)\n",
        "\n",
        "print(\"Language forescasted:\", int(indexMax))"
      ],
      "execution_count": null,
      "outputs": [
        {
          "output_type": "stream",
          "name": "stdout",
          "text": [
            "Language forescasted: 2\n"
          ]
        }
      ]
    },
    {
      "cell_type": "code",
      "metadata": {
        "colab": {
          "base_uri": "https://localhost:8080/"
        },
        "id": "BadVpETgTeTc",
        "outputId": "62e3bccd-d6e6-42e9-91c7-47390e113403"
      },
      "source": [
        "# pick a sample to predict from the test set\n",
        "Xindicator = X_test[50]\n",
        "yIndicator = y_test[50]\n",
        "\n",
        "print(\"Real Language:\", yIndicator)\n",
        "\n",
        "Xindicator = Xindicator[np.newaxis, ...]\n",
        "\n",
        "prediction = cnnSimulation.predict(Xindicator)\n",
        "\n",
        "# get index with max value\n",
        "indexMax = np.argmax(prediction, axis=1)\n",
        "\n",
        "print(\"Language Forescasted:\", int(indexMax))\n",
        "print(\"Length X Test:\",len(X_test))"
      ],
      "execution_count": null,
      "outputs": [
        {
          "output_type": "stream",
          "name": "stdout",
          "text": [
            "Real Language: 0\n",
            "Language Forescasted: 0\n",
            "Length X Test: 750\n"
          ]
        }
      ]
    },
    {
      "cell_type": "code",
      "metadata": {
        "colab": {
          "base_uri": "https://localhost:8080/"
        },
        "id": "sr2-76ikTipp",
        "outputId": "d1bea138-9c9b-484d-ca7e-c2e4cf905e95"
      },
      "source": [
        "for n in range(10):\n",
        "\n",
        "  i = random.randint(0,len(X_test))\n",
        "  # pick a sample to predict from the test set\n",
        "  Xindicator = X_test[i]\n",
        "  yIndicator = y_test[i]\n",
        "\n",
        "  print(\"\\nReal Language:\", yIndicator)\n",
        "\n",
        "  Xindicator = Xindicator[np.newaxis, ...]\n",
        "\n",
        "  prediction = cnnSimulation.predict(Xindicator)\n",
        "\n",
        "  # get index with max value\n",
        "  indexMax = np.argmax(prediction, axis=1)\n",
        "\n",
        "  print(\"Forecasted Language:\", int(indexMax))"
      ],
      "execution_count": null,
      "outputs": [
        {
          "output_type": "stream",
          "name": "stdout",
          "text": [
            "\n",
            "Real Language: 2\n",
            "Forecasted Language: 2\n",
            "\n",
            "Real Language: 0\n",
            "Forecasted Language: 0\n",
            "\n",
            "Real Language: 0\n",
            "Forecasted Language: 2\n",
            "\n",
            "Real Language: 0\n",
            "Forecasted Language: 0\n",
            "\n",
            "Real Language: 0\n",
            "Forecasted Language: 0\n",
            "\n",
            "Real Language: 0\n",
            "Forecasted Language: 0\n",
            "\n",
            "Real Language: 1\n",
            "Forecasted Language: 1\n",
            "\n",
            "Real Language: 1\n",
            "Forecasted Language: 0\n",
            "\n",
            "Real Language: 2\n",
            "Forecasted Language: 2\n",
            "\n",
            "Real Language: 2\n",
            "Forecasted Language: 1\n"
          ]
        }
      ]
    },
    {
      "cell_type": "code",
      "metadata": {
        "id": "icD1pDbFTkJN"
      },
      "source": [
        "# Audio files pre-processing\n",
        "def process_input(myAudioFile, track):\n",
        "\n",
        "  numberOfSegment = 10\n",
        "  numberOfFTT=2048\n",
        "  hopLength=512\n",
        "  samplingRate = 22050\n",
        "  numberOfMFCC = 13\n",
        "  trackPeriod = track # measured in seconds\n",
        "  trackTrial = samplingRate * trackPeriod\n",
        "  signal, rateOfSampling = librosa.load(myAudioFile, sr=samplingRate)\n",
        "\n",
        "  trialSegment = int(trackTrial / numberOfSegment)\n",
        "  mfccVectorsSegment = math.ceil(trialSegment / hopLength)\n",
        "  \n",
        "  \n",
        "  for o in range(10):\n",
        "\n",
        "    # calculate start and finish sample for current segment\n",
        "    start = trialSegment * o\n",
        "    end = start + trialSegment\n",
        "\n",
        "    # extract mfcc\n",
        "    mfcc = librosa.feature.mfcc(signal[start:end], rateOfSampling, n_mfcc=numberOfMFCC, n_fft=numberOfFTT, hop_length=hopLength)\n",
        "    mfcc = mfcc.T\n",
        "\n",
        "    return mfcc\n",
        "myLanguageDictionary = {0:\"japanese\",1:\"arabic\",2:\"english\"}\n"
      ],
      "execution_count": null,
      "outputs": []
    },
    {
      "cell_type": "code",
      "metadata": {
        "id": "onFgGSnITsi2",
        "colab": {
          "base_uri": "https://localhost:8080/"
        },
        "outputId": "9878d11a-4fee-47c7-8a02-2fef89fd1f1d"
      },
      "source": [
        "mfccSpeech = process_input(\"/content/drive/MyDrive/languagesDataset2/english/english.00057.wav\", 30)\n",
        "type(mfccSpeech)\n",
        "mfccSpeech.shape\n",
        "Xindicator = mfccSpeech[np.newaxis, ..., np.newaxis]\n",
        "print(\"My x to be predicted shape:\",Xindicator.shape)"
      ],
      "execution_count": null,
      "outputs": [
        {
          "output_type": "stream",
          "name": "stdout",
          "text": [
            "My x to be predicted shape: (1, 130, 13, 1)\n"
          ]
        }
      ]
    },
    {
      "cell_type": "code",
      "metadata": {
        "colab": {
          "base_uri": "https://localhost:8080/"
        },
        "id": "sFKDj14RW_nW",
        "outputId": "3e85600a-d38d-4f6e-d1ac-f83953ec4b48"
      },
      "source": [
        "prediction = cnnSimulation.predict(Xindicator)\n",
        "\n",
        "# get index with max value\n",
        "indexMax = np.argmax(prediction, axis=1)\n",
        "\n",
        "print(\"Forecasted Language:\", myLanguageDictionary[int(indexMax)])"
      ],
      "execution_count": null,
      "outputs": [
        {
          "output_type": "stream",
          "name": "stdout",
          "text": [
            "Forecasted Language: japanese\n"
          ]
        }
      ]
    },
    {
      "cell_type": "code",
      "metadata": {
        "id": "SuXt8QjhXCGx"
      },
      "source": [
        "mfccSpeech = process_input(\"/content/drive/MyDrive/languagesDataset2/arabic/arabic.00057.wav\", 30)"
      ],
      "execution_count": null,
      "outputs": []
    },
    {
      "cell_type": "code",
      "metadata": {
        "colab": {
          "base_uri": "https://localhost:8080/"
        },
        "id": "BIOqOBqXXk9M",
        "outputId": "2b07582e-0771-46a1-a4c2-f51d2ff0fa74"
      },
      "source": [
        "Xindicator = mfccSpeech[np.newaxis, ..., np.newaxis]\n",
        "Xindicator.shape"
      ],
      "execution_count": null,
      "outputs": [
        {
          "output_type": "execute_result",
          "data": {
            "text/plain": [
              "(1, 130, 13, 1)"
            ]
          },
          "metadata": {},
          "execution_count": 35
        }
      ]
    },
    {
      "cell_type": "code",
      "metadata": {
        "colab": {
          "base_uri": "https://localhost:8080/"
        },
        "id": "rjeViGmxXqb4",
        "outputId": "eef8bf09-fe72-4270-e1b7-a7bb3aa795d0"
      },
      "source": [
        "prediction = cnnSimulation.predict(Xindicator)\n",
        "\n",
        "# get index with max value\n",
        "indexMax = np.argmax(prediction, axis=1)\n",
        "\n",
        "print(\"Forecasted Language:\", myLanguageDictionary[int(indexMax)])"
      ],
      "execution_count": null,
      "outputs": [
        {
          "output_type": "stream",
          "name": "stdout",
          "text": [
            "Forecasted Language: arabic\n"
          ]
        }
      ]
    },
    {
      "cell_type": "code",
      "metadata": {
        "colab": {
          "base_uri": "https://localhost:8080/"
        },
        "id": "coOoEgDZWvKk",
        "outputId": "242c667a-cf56-4b35-bb16-2eb2d01e3855"
      },
      "source": [
        "mfccSpeech = process_input(\"/content/drive/MyDrive/languagesDataset2/japanese/japanese.00057.wav\", 30)\n",
        "Xindicator = mfccSpeech[np.newaxis, ..., np.newaxis]\n",
        "Xindicator.shape\n",
        "prediction = cnnSimulation.predict(Xindicator)\n",
        "\n",
        "# get index with max value\n",
        "indexMax = np.argmax(prediction, axis=1)\n",
        "\n",
        "print(\"Forecasted Language:\", myLanguageDictionary[int(indexMax)])"
      ],
      "execution_count": null,
      "outputs": [
        {
          "output_type": "stream",
          "name": "stdout",
          "text": [
            "Forecasted Language: japanese\n"
          ]
        }
      ]
    }
  ]
}